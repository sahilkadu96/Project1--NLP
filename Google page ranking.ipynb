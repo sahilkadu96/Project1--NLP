{
 "cells": [
  {
   "cell_type": "code",
   "execution_count": 1,
   "id": "0952df68",
   "metadata": {},
   "outputs": [
    {
     "data": {
      "text/plain": [
       "<selenium.webdriver.chrome.webdriver.WebDriver (session=\"5a6c906752b232263696fa525c777c89\")>"
      ]
     },
     "execution_count": 1,
     "metadata": {},
     "output_type": "execute_result"
    }
   ],
   "source": [
    "from selenium import webdriver\n",
    "driver = webdriver.Chrome(executable_path = 'C:/Users/Sahil/.wdm/drivers/chromedriver/win32/105.0.5195/chromedriver.exe')\n",
    "driver"
   ]
  },
  {
   "cell_type": "code",
   "execution_count": 2,
   "id": "0ae1e2ac",
   "metadata": {},
   "outputs": [],
   "source": [
    "from selenium.webdriver.common.keys import Keys\n",
    "from selenium.common.exceptions import NoSuchElementException\n",
    "from time import sleep\n",
    "from selenium.webdriver.support.ui import WebDriverWait\n",
    "from selenium.webdriver.support import expected_conditions as EC\n",
    "from urllib.parse import urlparse\n",
    "import pandas as pd"
   ]
  },
  {
   "cell_type": "code",
   "execution_count": 3,
   "id": "c38c91b3",
   "metadata": {},
   "outputs": [],
   "source": [
    "driver.get('https://www.google.com')"
   ]
  },
  {
   "cell_type": "code",
   "execution_count": 26,
   "id": "362636b9",
   "metadata": {},
   "outputs": [
    {
     "data": {
      "text/plain": [
       "<selenium.webdriver.remote.webelement.WebElement (session=\"c14fe1b8d0b1465ae8408e16e07073c7\", element=\"02962b35-ac8e-41d0-ad05-6ac14e9e4c53\")>"
      ]
     },
     "execution_count": 26,
     "metadata": {},
     "output_type": "execute_result"
    }
   ],
   "source": [
    "text = driver.find_element_by_xpath(\"/html/body/div[1]/div[3]/form/div[1]/div[1]/div[1]/div/div[2]/input\")\n",
    "text"
   ]
  },
  {
   "cell_type": "code",
   "execution_count": 28,
   "id": "e47f24fe",
   "metadata": {},
   "outputs": [],
   "source": [
    "text.send_keys(\"dsa questions\")\n",
    "text.send_keys(Keys.RETURN)"
   ]
  },
  {
   "cell_type": "code",
   "execution_count": 54,
   "id": "94861218",
   "metadata": {},
   "outputs": [
    {
     "data": {
      "text/plain": [
       "'DSA Interview Questions - Tutorialspoint'"
      ]
     },
     "execution_count": 54,
     "metadata": {},
     "output_type": "execute_result"
    }
   ],
   "source": [
    "result = driver.find_element_by_xpath('//div[@class = \"yuRUbf\"]/a/h3 ')\n",
    "result.text"
   ]
  },
  {
   "cell_type": "code",
   "execution_count": 57,
   "id": "09a445c2",
   "metadata": {},
   "outputs": [
    {
     "data": {
      "text/plain": [
       "[<selenium.webdriver.remote.webelement.WebElement (session=\"c14fe1b8d0b1465ae8408e16e07073c7\", element=\"431bcaf8-2fb7-42e7-b05c-8b62e18a328d\")>,\n",
       " <selenium.webdriver.remote.webelement.WebElement (session=\"c14fe1b8d0b1465ae8408e16e07073c7\", element=\"6d47f3f5-dbd8-46be-88ec-61a67c9db6f1\")>,\n",
       " <selenium.webdriver.remote.webelement.WebElement (session=\"c14fe1b8d0b1465ae8408e16e07073c7\", element=\"258b198a-798a-495b-a33b-c8c0ea17d694\")>,\n",
       " <selenium.webdriver.remote.webelement.WebElement (session=\"c14fe1b8d0b1465ae8408e16e07073c7\", element=\"b8e02998-e5d5-403f-9b5b-86dad72a3eea\")>,\n",
       " <selenium.webdriver.remote.webelement.WebElement (session=\"c14fe1b8d0b1465ae8408e16e07073c7\", element=\"6e4e3b9e-25aa-4164-aaaf-f6b44d8425a8\")>,\n",
       " <selenium.webdriver.remote.webelement.WebElement (session=\"c14fe1b8d0b1465ae8408e16e07073c7\", element=\"f4216f16-449b-417f-9d3c-0a63b7d2c3ba\")>,\n",
       " <selenium.webdriver.remote.webelement.WebElement (session=\"c14fe1b8d0b1465ae8408e16e07073c7\", element=\"e924aac3-ebd5-474f-ab39-ce8ecbb13f04\")>,\n",
       " <selenium.webdriver.remote.webelement.WebElement (session=\"c14fe1b8d0b1465ae8408e16e07073c7\", element=\"f3c6d188-f3b1-4b25-9f52-d8d6155003d3\")>,\n",
       " <selenium.webdriver.remote.webelement.WebElement (session=\"c14fe1b8d0b1465ae8408e16e07073c7\", element=\"0e269501-ba64-4cd8-aed3-31d503b5d590\")>,\n",
       " <selenium.webdriver.remote.webelement.WebElement (session=\"c14fe1b8d0b1465ae8408e16e07073c7\", element=\"27529c4f-53f6-49b5-86fd-856160086b85\")>,\n",
       " <selenium.webdriver.remote.webelement.WebElement (session=\"c14fe1b8d0b1465ae8408e16e07073c7\", element=\"cde61159-de57-4a65-bcf0-3ec37cc18254\")>,\n",
       " <selenium.webdriver.remote.webelement.WebElement (session=\"c14fe1b8d0b1465ae8408e16e07073c7\", element=\"6393b952-150f-4f32-939a-1cc1ab62e3da\")>,\n",
       " <selenium.webdriver.remote.webelement.WebElement (session=\"c14fe1b8d0b1465ae8408e16e07073c7\", element=\"e5aebe55-4981-4273-953e-490f311fe4d0\")>]"
      ]
     },
     "execution_count": 57,
     "metadata": {},
     "output_type": "execute_result"
    }
   ],
   "source": [
    "results = driver.find_elements_by_xpath('//div[@class = \"yuRUbf\"]/a ')\n",
    "results"
   ]
  },
  {
   "cell_type": "code",
   "execution_count": 60,
   "id": "5b13f9b7",
   "metadata": {},
   "outputs": [],
   "source": [
    "rank = 1\n",
    "websites= []\n",
    "ranking = []\n",
    "for result in results:\n",
    "    url = result.get_attribute('href')\n",
    "    parsed = urlparse(url)\n",
    "    netloc = parsed.netloc\n",
    "    if netloc not in websites:\n",
    "        websites.append(netloc)\n",
    "        ranking.append(rank)\n",
    "        rank += 1\n"
   ]
  },
  {
   "cell_type": "code",
   "execution_count": 63,
   "id": "3f1cfc1e",
   "metadata": {},
   "outputs": [
    {
     "data": {
      "text/html": [
       "<div>\n",
       "<style scoped>\n",
       "    .dataframe tbody tr th:only-of-type {\n",
       "        vertical-align: middle;\n",
       "    }\n",
       "\n",
       "    .dataframe tbody tr th {\n",
       "        vertical-align: top;\n",
       "    }\n",
       "\n",
       "    .dataframe thead th {\n",
       "        text-align: right;\n",
       "    }\n",
       "</style>\n",
       "<table border=\"1\" class=\"dataframe\">\n",
       "  <thead>\n",
       "    <tr style=\"text-align: right;\">\n",
       "      <th></th>\n",
       "      <th>Website</th>\n",
       "      <th>Ranking</th>\n",
       "    </tr>\n",
       "  </thead>\n",
       "  <tbody>\n",
       "    <tr>\n",
       "      <th>0</th>\n",
       "      <td>www.tutorialspoint.com</td>\n",
       "      <td>1</td>\n",
       "    </tr>\n",
       "    <tr>\n",
       "      <th>1</th>\n",
       "      <td>workat.tech</td>\n",
       "      <td>2</td>\n",
       "    </tr>\n",
       "    <tr>\n",
       "      <th>2</th>\n",
       "      <td>www.interviewbit.com</td>\n",
       "      <td>3</td>\n",
       "    </tr>\n",
       "    <tr>\n",
       "      <th>3</th>\n",
       "      <td>www.codingninjas.com</td>\n",
       "      <td>4</td>\n",
       "    </tr>\n",
       "    <tr>\n",
       "      <th>4</th>\n",
       "      <td>whatsabyte.com</td>\n",
       "      <td>5</td>\n",
       "    </tr>\n",
       "    <tr>\n",
       "      <th>5</th>\n",
       "      <td>www.geeksforgeeks.org</td>\n",
       "      <td>6</td>\n",
       "    </tr>\n",
       "    <tr>\n",
       "      <th>6</th>\n",
       "      <td>www.simplilearn.com</td>\n",
       "      <td>7</td>\n",
       "    </tr>\n",
       "    <tr>\n",
       "      <th>7</th>\n",
       "      <td>www.javatpoint.com</td>\n",
       "      <td>8</td>\n",
       "    </tr>\n",
       "    <tr>\n",
       "      <th>8</th>\n",
       "      <td>www.monsterindia.com</td>\n",
       "      <td>9</td>\n",
       "    </tr>\n",
       "    <tr>\n",
       "      <th>9</th>\n",
       "      <td>medium.com</td>\n",
       "      <td>10</td>\n",
       "    </tr>\n",
       "  </tbody>\n",
       "</table>\n",
       "</div>"
      ],
      "text/plain": [
       "                  Website  Ranking\n",
       "0  www.tutorialspoint.com        1\n",
       "1             workat.tech        2\n",
       "2    www.interviewbit.com        3\n",
       "3    www.codingninjas.com        4\n",
       "4          whatsabyte.com        5\n",
       "5   www.geeksforgeeks.org        6\n",
       "6     www.simplilearn.com        7\n",
       "7      www.javatpoint.com        8\n",
       "8    www.monsterindia.com        9\n",
       "9              medium.com       10"
      ]
     },
     "execution_count": 63,
     "metadata": {},
     "output_type": "execute_result"
    }
   ],
   "source": [
    "df = pd.DataFrame({\"Website\": websites, \"Ranking\": ranking})\n",
    "df"
   ]
  },
  {
   "cell_type": "code",
   "execution_count": 8,
   "id": "5bd93a23",
   "metadata": {},
   "outputs": [],
   "source": [
    "\n",
    "def google_search_page_ranking(query):\n",
    "    text = driver.find_element_by_xpath(\"/html/body/div[1]/div[3]/form/div[1]/div[1]/div[1]/div/div[2]/input\")\n",
    "    text.send_keys(query)\n",
    "    text.send_keys(Keys.RETURN)\n",
    "    sleep(5)\n",
    "    results = driver.find_elements_by_xpath('//div[@class = \"yuRUbf\"]/a ')\n",
    "    \n",
    "    rank = 1\n",
    "    websites= []\n",
    "    ranking = []\n",
    "    for result in results:\n",
    "        url = result.get_attribute('href')\n",
    "        parsed = urlparse(url)\n",
    "        netloc = parsed.netloc\n",
    "        if netloc not in websites:\n",
    "            websites.append(netloc)\n",
    "            ranking.append(rank)\n",
    "            rank += 1\n",
    "            \n",
    "    df = pd.DataFrame({\"Website\": websites, \"Ranking\": ranking})\n",
    "    return df\n",
    "    \n",
    "    \n",
    "    \n",
    "    "
   ]
  },
  {
   "cell_type": "code",
   "execution_count": 9,
   "id": "b1d749c6",
   "metadata": {},
   "outputs": [
    {
     "data": {
      "text/html": [
       "<div>\n",
       "<style scoped>\n",
       "    .dataframe tbody tr th:only-of-type {\n",
       "        vertical-align: middle;\n",
       "    }\n",
       "\n",
       "    .dataframe tbody tr th {\n",
       "        vertical-align: top;\n",
       "    }\n",
       "\n",
       "    .dataframe thead th {\n",
       "        text-align: right;\n",
       "    }\n",
       "</style>\n",
       "<table border=\"1\" class=\"dataframe\">\n",
       "  <thead>\n",
       "    <tr style=\"text-align: right;\">\n",
       "      <th></th>\n",
       "      <th>Website</th>\n",
       "      <th>Ranking</th>\n",
       "    </tr>\n",
       "  </thead>\n",
       "  <tbody>\n",
       "    <tr>\n",
       "      <th>0</th>\n",
       "      <td>www.tutorialspoint.com</td>\n",
       "      <td>1</td>\n",
       "    </tr>\n",
       "    <tr>\n",
       "      <th>1</th>\n",
       "      <td>workat.tech</td>\n",
       "      <td>2</td>\n",
       "    </tr>\n",
       "    <tr>\n",
       "      <th>2</th>\n",
       "      <td>www.interviewbit.com</td>\n",
       "      <td>3</td>\n",
       "    </tr>\n",
       "    <tr>\n",
       "      <th>3</th>\n",
       "      <td>www.geeksforgeeks.org</td>\n",
       "      <td>4</td>\n",
       "    </tr>\n",
       "    <tr>\n",
       "      <th>4</th>\n",
       "      <td>www.codingninjas.com</td>\n",
       "      <td>5</td>\n",
       "    </tr>\n",
       "    <tr>\n",
       "      <th>5</th>\n",
       "      <td>whatsabyte.com</td>\n",
       "      <td>6</td>\n",
       "    </tr>\n",
       "    <tr>\n",
       "      <th>6</th>\n",
       "      <td>www.simplilearn.com</td>\n",
       "      <td>7</td>\n",
       "    </tr>\n",
       "    <tr>\n",
       "      <th>7</th>\n",
       "      <td>www.javatpoint.com</td>\n",
       "      <td>8</td>\n",
       "    </tr>\n",
       "    <tr>\n",
       "      <th>8</th>\n",
       "      <td>www.codechef.com</td>\n",
       "      <td>9</td>\n",
       "    </tr>\n",
       "    <tr>\n",
       "      <th>9</th>\n",
       "      <td>www.monsterindia.com</td>\n",
       "      <td>10</td>\n",
       "    </tr>\n",
       "  </tbody>\n",
       "</table>\n",
       "</div>"
      ],
      "text/plain": [
       "                  Website  Ranking\n",
       "0  www.tutorialspoint.com        1\n",
       "1             workat.tech        2\n",
       "2    www.interviewbit.com        3\n",
       "3   www.geeksforgeeks.org        4\n",
       "4    www.codingninjas.com        5\n",
       "5          whatsabyte.com        6\n",
       "6     www.simplilearn.com        7\n",
       "7      www.javatpoint.com        8\n",
       "8        www.codechef.com        9\n",
       "9    www.monsterindia.com       10"
      ]
     },
     "execution_count": 9,
     "metadata": {},
     "output_type": "execute_result"
    }
   ],
   "source": [
    "google_search_page_ranking(\"dsa questions\")"
   ]
  },
  {
   "cell_type": "code",
   "execution_count": 10,
   "id": "849354ee",
   "metadata": {},
   "outputs": [
    {
     "data": {
      "text/html": [
       "<div>\n",
       "<style scoped>\n",
       "    .dataframe tbody tr th:only-of-type {\n",
       "        vertical-align: middle;\n",
       "    }\n",
       "\n",
       "    .dataframe tbody tr th {\n",
       "        vertical-align: top;\n",
       "    }\n",
       "\n",
       "    .dataframe thead th {\n",
       "        text-align: right;\n",
       "    }\n",
       "</style>\n",
       "<table border=\"1\" class=\"dataframe\">\n",
       "  <thead>\n",
       "    <tr style=\"text-align: right;\">\n",
       "      <th></th>\n",
       "      <th>Website</th>\n",
       "      <th>Ranking</th>\n",
       "    </tr>\n",
       "  </thead>\n",
       "  <tbody>\n",
       "    <tr>\n",
       "      <th>0</th>\n",
       "      <td>www.ibm.com</td>\n",
       "      <td>1</td>\n",
       "    </tr>\n",
       "    <tr>\n",
       "      <th>1</th>\n",
       "      <td>www.netapp.com</td>\n",
       "      <td>2</td>\n",
       "    </tr>\n",
       "    <tr>\n",
       "      <th>2</th>\n",
       "      <td>www.malicksarr.com</td>\n",
       "      <td>3</td>\n",
       "    </tr>\n",
       "    <tr>\n",
       "      <th>3</th>\n",
       "      <td>www.simplilearn.com</td>\n",
       "      <td>4</td>\n",
       "    </tr>\n",
       "    <tr>\n",
       "      <th>4</th>\n",
       "      <td>www.zendesk.com</td>\n",
       "      <td>5</td>\n",
       "    </tr>\n",
       "    <tr>\n",
       "      <th>5</th>\n",
       "      <td>www.mathworks.com</td>\n",
       "      <td>6</td>\n",
       "    </tr>\n",
       "    <tr>\n",
       "      <th>6</th>\n",
       "      <td>www.techtarget.com</td>\n",
       "      <td>7</td>\n",
       "    </tr>\n",
       "    <tr>\n",
       "      <th>7</th>\n",
       "      <td>machinelearningmastery.com</td>\n",
       "      <td>8</td>\n",
       "    </tr>\n",
       "    <tr>\n",
       "      <th>8</th>\n",
       "      <td>en.wikipedia.org</td>\n",
       "      <td>9</td>\n",
       "    </tr>\n",
       "    <tr>\n",
       "      <th>9</th>\n",
       "      <td>www.coursera.org</td>\n",
       "      <td>10</td>\n",
       "    </tr>\n",
       "    <tr>\n",
       "      <th>10</th>\n",
       "      <td>www.deeplearningbook.org</td>\n",
       "      <td>11</td>\n",
       "    </tr>\n",
       "    <tr>\n",
       "      <th>11</th>\n",
       "      <td>www.dataversity.net</td>\n",
       "      <td>12</td>\n",
       "    </tr>\n",
       "  </tbody>\n",
       "</table>\n",
       "</div>"
      ],
      "text/plain": [
       "                       Website  Ranking\n",
       "0                  www.ibm.com        1\n",
       "1               www.netapp.com        2\n",
       "2           www.malicksarr.com        3\n",
       "3          www.simplilearn.com        4\n",
       "4              www.zendesk.com        5\n",
       "5            www.mathworks.com        6\n",
       "6           www.techtarget.com        7\n",
       "7   machinelearningmastery.com        8\n",
       "8             en.wikipedia.org        9\n",
       "9             www.coursera.org       10\n",
       "10    www.deeplearningbook.org       11\n",
       "11         www.dataversity.net       12"
      ]
     },
     "execution_count": 10,
     "metadata": {},
     "output_type": "execute_result"
    }
   ],
   "source": [
    "google_search_page_ranking(\"deep learning\")"
   ]
  }
 ],
 "metadata": {
  "kernelspec": {
   "display_name": "Python 3 (ipykernel)",
   "language": "python",
   "name": "python3"
  },
  "language_info": {
   "codemirror_mode": {
    "name": "ipython",
    "version": 3
   },
   "file_extension": ".py",
   "mimetype": "text/x-python",
   "name": "python",
   "nbconvert_exporter": "python",
   "pygments_lexer": "ipython3",
   "version": "3.9.12"
  }
 },
 "nbformat": 4,
 "nbformat_minor": 5
}
